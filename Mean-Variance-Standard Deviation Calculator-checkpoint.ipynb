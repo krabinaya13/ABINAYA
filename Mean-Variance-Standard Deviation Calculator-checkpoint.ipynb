{
 "cells": [
  {
   "cell_type": "code",
   "execution_count": 2,
   "id": "fec6698e",
   "metadata": {},
   "outputs": [],
   "source": [
    "import numpy as np\n",
    "import pandas as pd"
   ]
  },
  {
   "cell_type": "code",
   "execution_count": 4,
   "id": "892b4964",
   "metadata": {},
   "outputs": [],
   "source": [
    "numbers = ([0,1,2,3,4,5,6,7,8])"
   ]
  },
  {
   "cell_type": "code",
   "execution_count": 5,
   "id": "86e843e1",
   "metadata": {},
   "outputs": [],
   "source": [
    "def calculate_mean(numbers):\n",
    "    if not numbers:\n",
    "        return none\n",
    "    return sum(numbers) / len(numbers)"
   ]
  },
  {
   "cell_type": "code",
   "execution_count": 6,
   "id": "a8966038",
   "metadata": {},
   "outputs": [],
   "source": [
    "def calculate_variance(numbers):\n",
    "    if not numbers:\n",
    "        return none\n",
    "    mean = calculate_mean(numbers)\n",
    "    return sum((x - mean) ** 2 for x in numbers) / len(numbers)"
   ]
  },
  {
   "cell_type": "code",
   "execution_count": 8,
   "id": "33e3a020",
   "metadata": {},
   "outputs": [],
   "source": [
    "def calculate_std_deviation(numbers):\n",
    "    variance = calculate_variance(numbers)\n",
    "    if variance is None:\n",
    "        return none\n",
    "    return variance ** 0.5"
   ]
  },
  {
   "cell_type": "code",
   "execution_count": 19,
   "id": "49b2ccb6",
   "metadata": {},
   "outputs": [
    {
     "name": "stdout",
     "output_type": "stream",
     "text": [
      "Enter a list of numbers separated by spaces: 1 2 3 4 5\n",
      "Mean: 3.00\n",
      "Variance: 2.00\n",
      "Standard Deviation: 1.41\n"
     ]
    }
   ],
   "source": [
    "if __name__ == \"__main__\":\n",
    "    try:\n",
    "        input_numbers = input(\"Enter a list of numbers separated by spaces: \").split()\n",
    "        numbers = [float(x) for x in input_numbers]\n",
    "        \n",
    "        mean = calculate_mean(numbers)\n",
    "        variance = calculate_variance(numbers)\n",
    "        std_deviation = calculate_std_deviation(numbers)\n",
    "\n",
    "        print(\"Mean: {:.2f}\".format(mean))\n",
    "        print(\"Variance: {:.2f}\".format(variance))\n",
    "        print(\"Standard Deviation: {:.2f}\".format(std_deviation))\n",
    "\n",
    "    except ValueError:\n",
    "        print(\"Invalid input.Please enter valid number seperated by spaces\")"
   ]
  },
  {
   "cell_type": "code",
   "execution_count": null,
   "id": "fb96eb92",
   "metadata": {},
   "outputs": [],
   "source": []
  },
  {
   "cell_type": "code",
   "execution_count": null,
   "id": "df07f2fb",
   "metadata": {},
   "outputs": [],
   "source": []
  }
 ],
 "metadata": {
  "kernelspec": {
   "display_name": "Python 3 (ipykernel)",
   "language": "python",
   "name": "python3"
  },
  "language_info": {
   "codemirror_mode": {
    "name": "ipython",
    "version": 3
   },
   "file_extension": ".py",
   "mimetype": "text/x-python",
   "name": "python",
   "nbconvert_exporter": "python",
   "pygments_lexer": "ipython3",
   "version": "3.10.9"
  }
 },
 "nbformat": 4,
 "nbformat_minor": 5
}
