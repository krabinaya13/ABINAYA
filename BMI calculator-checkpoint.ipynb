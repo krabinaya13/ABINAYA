{
 "cells": [
  {
   "cell_type": "markdown",
   "id": "503d9214",
   "metadata": {},
   "source": [
    "https://mercer-health.com/services/weight-management-center/bmi-calculator#:~:text=Body%20Mass%20Index%2C%20or%20BMI,inches%20x%20height%20in%20inches"
   ]
  },
  {
   "cell_type": "code",
   "execution_count": 2,
   "id": "a9393d39",
   "metadata": {},
   "outputs": [
    {
     "name": "stdout",
     "output_type": "stream",
     "text": [
      "Enter you name: ABI\n",
      "Enter your weight in pounds: 100\n",
      "Enter your height in inches: 67\n"
     ]
    }
   ],
   "source": [
    "name = input(\"Enter you name: \")\n",
    "\n",
    "weight = int(input(\"Enter your weight in pounds: \"))\n",
    "\n",
    "height = int(input(\"Enter your height in inches: \"))\n"
   ]
  },
  {
   "cell_type": "code",
   "execution_count": 15,
   "id": "aebe13cf",
   "metadata": {},
   "outputs": [
    {
     "data": {
      "text/plain": [
       "15.66050345288483"
      ]
     },
     "execution_count": 15,
     "metadata": {},
     "output_type": "execute_result"
    }
   ],
   "source": [
    "BMI = (weight * 703) / (height * height)\n",
    "BMI"
   ]
  },
  {
   "cell_type": "code",
   "execution_count": 8,
   "id": "68a5a50a",
   "metadata": {},
   "outputs": [
    {
     "ename": "SyntaxError",
     "evalue": "invalid syntax (1934708787.py, line 1)",
     "output_type": "error",
     "traceback": [
      "\u001b[1;36m  Cell \u001b[1;32mIn[8], line 1\u001b[1;36m\u001b[0m\n\u001b[1;33m    Under 18.5 = Underweight\u001b[0m\n\u001b[1;37m          ^\u001b[0m\n\u001b[1;31mSyntaxError\u001b[0m\u001b[1;31m:\u001b[0m invalid syntax\n"
     ]
    }
   ],
   "source": [
    "Under 18.5 = Underweight\n",
    "18.5 - 24.9 = Normal Weight\n",
    "25 - 29.9 = Overweight\n",
    "30 - 34.9 = Obese\n",
    "35 - 39.9 = Severely\n",
    "40 and over = Morbidly"
   ]
  },
  {
   "cell_type": "code",
   "execution_count": 13,
   "id": "a24785f7",
   "metadata": {},
   "outputs": [
    {
     "name": "stdout",
     "output_type": "stream",
     "text": [
      "ABI,you are Underweight.\n"
     ]
    }
   ],
   "source": [
    "if BMI > 0:\n",
    "    if (BMI < 18.5):\n",
    "        print(name +\",you are Underweight.\")\n",
    "    elif (BMI < 24.9):\n",
    "        print(name +\",you are Normal Weight.\")\n",
    "    elif (BMI < 29.9):\n",
    "        print(name + \",you are Overweight.\")\n",
    "    elif (BMI < 34.9):\n",
    "        print(name + \",you are Obese.\")\n",
    "    elif (BMI < 39.9):\n",
    "        print(name + \",you are Severely.\")\n",
    "    else:\n",
    "        print(name + \",you are morbidly obese.\")\n",
    "else:\n",
    "    print (\"enter valid input\")"
   ]
  },
  {
   "cell_type": "code",
   "execution_count": null,
   "id": "9a185c13",
   "metadata": {},
   "outputs": [],
   "source": []
  }
 ],
 "metadata": {
  "kernelspec": {
   "display_name": "Python 3 (ipykernel)",
   "language": "python",
   "name": "python3"
  },
  "language_info": {
   "codemirror_mode": {
    "name": "ipython",
    "version": 3
   },
   "file_extension": ".py",
   "mimetype": "text/x-python",
   "name": "python",
   "nbconvert_exporter": "python",
   "pygments_lexer": "ipython3",
   "version": "3.10.9"
  }
 },
 "nbformat": 4,
 "nbformat_minor": 5
}
